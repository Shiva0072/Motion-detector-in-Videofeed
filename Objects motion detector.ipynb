{
 "cells": [
  {
   "cell_type": "code",
   "execution_count": 1,
   "metadata": {},
   "outputs": [],
   "source": [
    "import cv2\n",
    "\n",
    "cap=cv2.VideoCapture('.././Assets/data/vtest.avi')\n",
    "# cap=cv2.VideoCapture(0)\n",
    "\n",
    "ret,frame1=cap.read()\n",
    "ret,frame2=cap.read()\n",
    "\n",
    "while cap.isOpened():\n",
    "    diff=cv2.absdiff(frame1,frame2)   #diff of frames for detecting the motion at each instant with a delay of singleRunTime of while loop\n",
    "    gray=cv2.cvtColor(diff,cv2.COLOR_BGR2GRAY)   \n",
    "    blur=cv2.GaussianBlur(gray,(5,5),0)    #gray->blur->threshold(binary)[2 shades for easy contour finding]\n",
    "    _,th=cv2.threshold(blur,20,150,cv2.THRESH_BINARY)\n",
    "    dilated=cv2.dilate(th,None,iterations=3)  #magnifying the results of threshold\n",
    "    contours,_=cv2.findContours(dilated,cv2.RETR_TREE,cv2.CHAIN_APPROX_SIMPLE)    #simple logic of finding the contours\n",
    "    \n",
    "    cv2.drawContours(frame1,contours,-1,(0,255,0),2)   #drawing the contours; this needs to be assigned to prev frame only(prev frame is frame1 ; since we are reading frame2 in the loop and assigning it to frame1 for image processing),\n",
    "\n",
    "    cv2.imshow('feed',frame1)   #showing the results, captured from frame2, into the frame1 with say a millisecond delay with the contours drawn\n",
    "    cv2.imshow('diff',diff)   #showing the difference between the frames; on which contours would be drawn.\n",
    "    cv2.imshow('gry',gray)\n",
    "#     cv2.imshow('blur',blur)\n",
    "    cv2.imshow('thresh',th)\n",
    "    cv2.imshow('dilated',dilated)\n",
    "    \n",
    "    frame1=frame2\n",
    "    ret,frame2=cap.read() #again reading the frames for further processing\n",
    "    \n",
    "    if(cv2.waitKey(40)==ord('q')):  #note if 40 is changed to 100 then video slows down further\n",
    "        break;\n",
    "cap.release()\n",
    "cv2.destroyAllWindows()\n",
    "#there should be a frame checker incase of reading videofiles to tackle the problem when the video gets over\n",
    "#read 2 frames then take the abs diff for motion detection (along with frames redifining at the end of the loop)\n",
    "#take out the contours of the difference frame \n",
    "#draw the contours only on the prev frame\n",
    "#if many unnecessary contours are being drawn then to avoid it we can tune the value of lower_thresholding[this will actually detect the 'desired' changes which will further magnified] and further then contourArea\n",
    "#then show the results before re-assigning the contour for further processing --v.v.important [try placing  cv2.imshow('feed',frame1)  after reassigning the frames -- no effect(since no image processing is being done on this frame)]"
   ]
  },
  {
   "cell_type": "code",
   "execution_count": null,
   "metadata": {},
   "outputs": [],
   "source": []
  }
 ],
 "metadata": {
  "kernelspec": {
   "display_name": "Python 3",
   "language": "python",
   "name": "python3"
  },
  "language_info": {
   "codemirror_mode": {
    "name": "ipython",
    "version": 3
   },
   "file_extension": ".py",
   "mimetype": "text/x-python",
   "name": "python",
   "nbconvert_exporter": "python",
   "pygments_lexer": "ipython3",
   "version": "3.6.9"
  }
 },
 "nbformat": 4,
 "nbformat_minor": 4
}
